{
 "cells": [
  {
   "cell_type": "code",
   "execution_count": 1,
   "metadata": {},
   "outputs": [],
   "source": [
    "from model.klotski import Klotski\n",
    "from time import time\n",
    "game = Klotski()"
   ]
  },
  {
   "cell_type": "code",
   "execution_count": 3,
   "metadata": {},
   "outputs": [
    {
     "name": "stdout",
     "output_type": "stream",
     "text": [
      "6.911815404891968\n",
      "48\n"
     ]
    }
   ],
   "source": [
    "game.read_board('inputs/set1/board8.txt')\n",
    "start = time()\n",
    "result = game.parallel_a_star(12, 1, 2)\n",
    "print(time() - start)\n",
    "print(len(result.move_history))"
   ]
  },
  {
   "cell_type": "code",
   "execution_count": 5,
   "metadata": {},
   "outputs": [
    {
     "name": "stdout",
     "output_type": "stream",
     "text": [
      "3.348729372024536\n",
      "48\n"
     ]
    }
   ],
   "source": [
    "game.read_board('inputs/set1/board8.txt')\n",
    "start = time()\n",
    "result = game.a_star(12, 1, 2)\n",
    "print(time() - start)\n",
    "print(len(result.move_history))"
   ]
  },
  {
   "cell_type": "code",
   "execution_count": 3,
   "metadata": {},
   "outputs": [
    {
     "name": "stdout",
     "output_type": "stream",
     "text": [
      "7.296501636505127\n",
      "50\n"
     ]
    }
   ],
   "source": [
    "game.read_board('inputs/set1/board11.txt')\n",
    "start = time()\n",
    "result = game.a_star(12, 1, 2)\n",
    "print(time() - start)\n",
    "print(len(result.move_history))"
   ]
  },
  {
   "cell_type": "code",
   "execution_count": null,
   "metadata": {},
   "outputs": [],
   "source": [
    "import os\n",
    "import signal\n",
    "from contextlib import contextmanager\n",
    "from tqdm import tqdm\n",
    "\n",
    "class TimeoutException(Exception): pass\n",
    "\n",
    "@contextmanager\n",
    "def time_limit(seconds):\n",
    "    def signal_handler(signum, frame):\n",
    "        raise TimeoutException(\"Timed out!\")\n",
    "    signal.signal(signal.SIGALRM, signal_handler)\n",
    "    signal.alarm(seconds)\n",
    "    try:\n",
    "        yield\n",
    "    finally:\n",
    "        signal.alarm(0)"
   ]
  },
  {
   "cell_type": "code",
   "execution_count": null,
   "metadata": {},
   "outputs": [],
   "source": [
    "executed = []\n",
    "for f in tqdm(os.listdir('inputs/set1/')):\n",
    "    game.read_board(f'inputs/set1/{f}')\n",
    "    try:\n",
    "        with time_limit(210):\n",
    "            game.a_star(12, 1, 2)\n",
    "            executed.append(f)\n",
    "    except TimeoutException as e:\n",
    "        pass"
   ]
  },
  {
   "cell_type": "code",
   "execution_count": null,
   "metadata": {},
   "outputs": [],
   "source": [
    "executed"
   ]
  }
 ],
 "metadata": {
  "kernelspec": {
   "display_name": "base",
   "language": "python",
   "name": "python3"
  },
  "language_info": {
   "codemirror_mode": {
    "name": "ipython",
    "version": 3
   },
   "file_extension": ".py",
   "mimetype": "text/x-python",
   "name": "python",
   "nbconvert_exporter": "python",
   "pygments_lexer": "ipython3",
   "version": "3.9.5"
  },
  "orig_nbformat": 4,
  "vscode": {
   "interpreter": {
    "hash": "521bd52f7db69f83952e45c69a41cc5a9312142da056b7c563e70a654200e62d"
   }
  }
 },
 "nbformat": 4,
 "nbformat_minor": 2
}
