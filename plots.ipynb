{
 "cells": [
  {
   "cell_type": "code",
   "execution_count": 30,
   "metadata": {},
   "outputs": [],
   "source": [
    "import plotly.express as px\n",
    "import plotly.io as pio\n",
    "pio.renderers.default = 'notebook'\n",
    "\n",
    "import pandas as pd\n",
    "from tqdm import tqdm"
   ]
  },
  {
   "cell_type": "code",
   "execution_count": 2,
   "metadata": {},
   "outputs": [],
   "source": [
    "from model.klotski import Klotski\n",
    "from time import time\n",
    "game = Klotski()"
   ]
  },
  {
   "cell_type": "code",
   "execution_count": 3,
   "metadata": {},
   "outputs": [],
   "source": [
    "algs = {\n",
    "    'A Star': lambda: game.a_star(12, 1, 2),\n",
    "    'Greedy Search': lambda: game.greedy_search(12, 1, 2),\n",
    "    'BFS': lambda: game.bfs(),\n",
    "    'Iterative DFS': lambda: game.iterative_deepening_search()\n",
    "}"
   ]
  },
  {
   "cell_type": "code",
   "execution_count": 4,
   "metadata": {},
   "outputs": [],
   "source": [
    "results = []"
   ]
  },
  {
   "cell_type": "code",
   "execution_count": 5,
   "metadata": {},
   "outputs": [],
   "source": [
    "for alg, func in algs.items():\n",
    "    game.read_board('inputs/set1/board0.txt')\n",
    "    start = time()\n",
    "    result = func()\n",
    "    exec_time = time() - start\n",
    "    results.append({\n",
    "        'game_id': 0,\n",
    "        'alg': alg,\n",
    "        'exec_time': exec_time,\n",
    "        'n_moves': len(result.move_history) - 1\n",
    "    })"
   ]
  },
  {
   "cell_type": "code",
   "execution_count": 6,
   "metadata": {},
   "outputs": [
    {
     "data": {
      "text/html": [
       "<div>\n",
       "<style scoped>\n",
       "    .dataframe tbody tr th:only-of-type {\n",
       "        vertical-align: middle;\n",
       "    }\n",
       "\n",
       "    .dataframe tbody tr th {\n",
       "        vertical-align: top;\n",
       "    }\n",
       "\n",
       "    .dataframe thead th {\n",
       "        text-align: right;\n",
       "    }\n",
       "</style>\n",
       "<table border=\"1\" class=\"dataframe\">\n",
       "  <thead>\n",
       "    <tr style=\"text-align: right;\">\n",
       "      <th></th>\n",
       "      <th>game_id</th>\n",
       "      <th>alg</th>\n",
       "      <th>exec_time</th>\n",
       "      <th>n_moves</th>\n",
       "    </tr>\n",
       "  </thead>\n",
       "  <tbody>\n",
       "    <tr>\n",
       "      <th>0</th>\n",
       "      <td>0</td>\n",
       "      <td>A Star</td>\n",
       "      <td>0.526192</td>\n",
       "      <td>8</td>\n",
       "    </tr>\n",
       "    <tr>\n",
       "      <th>1</th>\n",
       "      <td>0</td>\n",
       "      <td>Greedy Search</td>\n",
       "      <td>1.891630</td>\n",
       "      <td>20</td>\n",
       "    </tr>\n",
       "    <tr>\n",
       "      <th>2</th>\n",
       "      <td>0</td>\n",
       "      <td>BFS</td>\n",
       "      <td>46.819945</td>\n",
       "      <td>8</td>\n",
       "    </tr>\n",
       "    <tr>\n",
       "      <th>3</th>\n",
       "      <td>0</td>\n",
       "      <td>Iterative DFS</td>\n",
       "      <td>8.336463</td>\n",
       "      <td>8</td>\n",
       "    </tr>\n",
       "  </tbody>\n",
       "</table>\n",
       "</div>"
      ],
      "text/plain": [
       "   game_id            alg  exec_time  n_moves\n",
       "0        0         A Star   0.526192        8\n",
       "1        0  Greedy Search   1.891630       20\n",
       "2        0            BFS  46.819945        8\n",
       "3        0  Iterative DFS   8.336463        8"
      ]
     },
     "execution_count": 6,
     "metadata": {},
     "output_type": "execute_result"
    }
   ],
   "source": [
    "df = pd.DataFrame(results)\n",
    "df"
   ]
  },
  {
   "cell_type": "code",
   "execution_count": 74,
   "metadata": {},
   "outputs": [],
   "source": [
    "fig = px.bar(df, x='alg', y='exec_time', title='Tempo de execução por algoritmo',\n",
    "       labels={\n",
    "            'alg': 'Algoritmo',\n",
    "            'exec_time': 'Tempo de execução em segundos'\n",
    "       })\n",
    "\n",
    "pio.write_image(fig, 'plots/board0_exec_time.png', width=350, height=500)"
   ]
  },
  {
   "cell_type": "code",
   "execution_count": 75,
   "metadata": {},
   "outputs": [],
   "source": [
    "fig = px.bar(df, x='alg', y='n_moves', title='Número de jogadas por algoritmo',\n",
    "       labels={\n",
    "            'alg': 'Algoritmo',\n",
    "            'n_moves': 'Número de jogadas'\n",
    "       })\n",
    "\n",
    "pio.write_image(fig, 'plots/board0_n_moves.png', width=350, height=500)"
   ]
  },
  {
   "cell_type": "code",
   "execution_count": 73,
   "metadata": {},
   "outputs": [
    {
     "data": {
      "text/html": [
       "<div>\n",
       "<style scoped>\n",
       "    .dataframe tbody tr th:only-of-type {\n",
       "        vertical-align: middle;\n",
       "    }\n",
       "\n",
       "    .dataframe tbody tr th {\n",
       "        vertical-align: top;\n",
       "    }\n",
       "\n",
       "    .dataframe thead th {\n",
       "        text-align: right;\n",
       "    }\n",
       "</style>\n",
       "<table border=\"1\" class=\"dataframe\">\n",
       "  <thead>\n",
       "    <tr style=\"text-align: right;\">\n",
       "      <th></th>\n",
       "      <th>game_id</th>\n",
       "      <th>alg</th>\n",
       "      <th>exec_time</th>\n",
       "      <th>n_moves</th>\n",
       "      <th>memory_used</th>\n",
       "    </tr>\n",
       "  </thead>\n",
       "  <tbody>\n",
       "    <tr>\n",
       "      <th>0</th>\n",
       "      <td>0</td>\n",
       "      <td>A Star</td>\n",
       "      <td>0.526192</td>\n",
       "      <td>8</td>\n",
       "      <td>3040000.0</td>\n",
       "    </tr>\n",
       "    <tr>\n",
       "      <th>1</th>\n",
       "      <td>0</td>\n",
       "      <td>Greedy Search</td>\n",
       "      <td>1.891630</td>\n",
       "      <td>20</td>\n",
       "      <td>4000000.0</td>\n",
       "    </tr>\n",
       "    <tr>\n",
       "      <th>2</th>\n",
       "      <td>0</td>\n",
       "      <td>BFS</td>\n",
       "      <td>46.819945</td>\n",
       "      <td>8</td>\n",
       "      <td>105000000.0</td>\n",
       "    </tr>\n",
       "    <tr>\n",
       "      <th>3</th>\n",
       "      <td>0</td>\n",
       "      <td>Iterative DFS</td>\n",
       "      <td>8.336463</td>\n",
       "      <td>8</td>\n",
       "      <td>5730000.0</td>\n",
       "    </tr>\n",
       "  </tbody>\n",
       "</table>\n",
       "</div>"
      ],
      "text/plain": [
       "   game_id            alg  exec_time  n_moves  memory_used\n",
       "0        0         A Star   0.526192        8    3040000.0\n",
       "1        0  Greedy Search   1.891630       20    4000000.0\n",
       "2        0            BFS  46.819945        8  105000000.0\n",
       "3        0  Iterative DFS   8.336463        8    5730000.0"
      ]
     },
     "execution_count": 73,
     "metadata": {},
     "output_type": "execute_result"
    }
   ],
   "source": [
    "memory_used = [\n",
    "    3.04*10**6,\n",
    "    4*10**6,\n",
    "    1.05*10**8,\n",
    "    5.73*10**6\n",
    "]\n",
    "df['memory_used'] = memory_used\n",
    "df"
   ]
  },
  {
   "cell_type": "code",
   "execution_count": 76,
   "metadata": {},
   "outputs": [],
   "source": [
    "fig = px.bar(df, x='alg', y='memory_used',\n",
    "       title='Quantidade de memória utilizada por algoritmo',\n",
    "       labels={\n",
    "            'game_id': 'Identificador do tabuleiro',\n",
    "            'memory_used': 'Quantidade de blocos de memória utilizada'\n",
    "       })\n",
    "\n",
    "pio.write_image(fig, 'plots/board0_memory_used.png', width=350, height=500)"
   ]
  },
  {
   "cell_type": "code",
   "execution_count": 17,
   "metadata": {},
   "outputs": [
    {
     "name": "stderr",
     "output_type": "stream",
     "text": [
      "100%|██████████| 8/8 [05:15<00:00, 39.41s/it]\n"
     ]
    }
   ],
   "source": [
    "algs_complex = {\n",
    "    'A Star': lambda: game.a_star(12, 1, 2),\n",
    "    'Greedy Search': lambda: game.greedy_search(12, 1, 2)\n",
    "}\n",
    "results_complex = []\n",
    "\n",
    "with tqdm(total=8) as pbar:\n",
    "    for i in [3, 8, 10, 11]:\n",
    "        for alg, func in algs_complex.items():\n",
    "            game.read_board(f'inputs/set1/board{i}.txt')\n",
    "            start = time()\n",
    "            result = func()\n",
    "            exec_time = time() - start\n",
    "            \n",
    "            results_complex.append({\n",
    "                'game_id': i,\n",
    "                'alg': alg,\n",
    "                'exec_time': exec_time,\n",
    "                'n_moves': len(result.move_history) - 1\n",
    "            })\n",
    "\n",
    "            pbar.update()\n",
    "\n",
    "df_complex = pd.DataFrame(results_complex)"
   ]
  },
  {
   "cell_type": "code",
   "execution_count": 18,
   "metadata": {},
   "outputs": [
    {
     "data": {
      "text/html": [
       "<div>\n",
       "<style scoped>\n",
       "    .dataframe tbody tr th:only-of-type {\n",
       "        vertical-align: middle;\n",
       "    }\n",
       "\n",
       "    .dataframe tbody tr th {\n",
       "        vertical-align: top;\n",
       "    }\n",
       "\n",
       "    .dataframe thead th {\n",
       "        text-align: right;\n",
       "    }\n",
       "</style>\n",
       "<table border=\"1\" class=\"dataframe\">\n",
       "  <thead>\n",
       "    <tr style=\"text-align: right;\">\n",
       "      <th></th>\n",
       "      <th>game_id</th>\n",
       "      <th>alg</th>\n",
       "      <th>exec_time</th>\n",
       "      <th>n_moves</th>\n",
       "    </tr>\n",
       "  </thead>\n",
       "  <tbody>\n",
       "    <tr>\n",
       "      <th>0</th>\n",
       "      <td>3</td>\n",
       "      <td>A Star</td>\n",
       "      <td>14.751803</td>\n",
       "      <td>29</td>\n",
       "    </tr>\n",
       "    <tr>\n",
       "      <th>1</th>\n",
       "      <td>3</td>\n",
       "      <td>Greedy Search</td>\n",
       "      <td>9.843436</td>\n",
       "      <td>176</td>\n",
       "    </tr>\n",
       "    <tr>\n",
       "      <th>2</th>\n",
       "      <td>8</td>\n",
       "      <td>A Star</td>\n",
       "      <td>3.995257</td>\n",
       "      <td>47</td>\n",
       "    </tr>\n",
       "    <tr>\n",
       "      <th>3</th>\n",
       "      <td>8</td>\n",
       "      <td>Greedy Search</td>\n",
       "      <td>12.426161</td>\n",
       "      <td>79</td>\n",
       "    </tr>\n",
       "    <tr>\n",
       "      <th>4</th>\n",
       "      <td>10</td>\n",
       "      <td>A Star</td>\n",
       "      <td>4.405516</td>\n",
       "      <td>49</td>\n",
       "    </tr>\n",
       "    <tr>\n",
       "      <th>5</th>\n",
       "      <td>10</td>\n",
       "      <td>Greedy Search</td>\n",
       "      <td>8.978745</td>\n",
       "      <td>115</td>\n",
       "    </tr>\n",
       "    <tr>\n",
       "      <th>6</th>\n",
       "      <td>11</td>\n",
       "      <td>A Star</td>\n",
       "      <td>15.273069</td>\n",
       "      <td>49</td>\n",
       "    </tr>\n",
       "    <tr>\n",
       "      <th>7</th>\n",
       "      <td>11</td>\n",
       "      <td>Greedy Search</td>\n",
       "      <td>245.562254</td>\n",
       "      <td>257</td>\n",
       "    </tr>\n",
       "  </tbody>\n",
       "</table>\n",
       "</div>"
      ],
      "text/plain": [
       "   game_id            alg   exec_time  n_moves\n",
       "0        3         A Star   14.751803       29\n",
       "1        3  Greedy Search    9.843436      176\n",
       "2        8         A Star    3.995257       47\n",
       "3        8  Greedy Search   12.426161       79\n",
       "4       10         A Star    4.405516       49\n",
       "5       10  Greedy Search    8.978745      115\n",
       "6       11         A Star   15.273069       49\n",
       "7       11  Greedy Search  245.562254      257"
      ]
     },
     "execution_count": 18,
     "metadata": {},
     "output_type": "execute_result"
    }
   ],
   "source": [
    "df_complex"
   ]
  },
  {
   "cell_type": "code",
   "execution_count": 20,
   "metadata": {},
   "outputs": [],
   "source": [
    "df_complex_alt = df_complex.copy()\n",
    "df_complex_alt['game_id'] = df_complex_alt['game_id'].astype(str)"
   ]
  },
  {
   "cell_type": "code",
   "execution_count": 66,
   "metadata": {},
   "outputs": [],
   "source": [
    "fig = px.bar(df_complex_alt, x='game_id', y='exec_time', color='alg', barmode='group',\n",
    "       title='Tempo de execução por tabuleiro',\n",
    "       labels={\n",
    "            'game_id': 'Identificador do tabuleiro',\n",
    "            'exec_time': 'Tempo de execução',\n",
    "            'alg': 'Algoritmo'\n",
    "       })\n",
    "\n",
    "pio.write_image(fig, 'plots/complex_exec_time.png', width=350, height=500)"
   ]
  },
  {
   "cell_type": "code",
   "execution_count": 67,
   "metadata": {},
   "outputs": [],
   "source": [
    "fig = px.bar(df_complex_alt, x='game_id', y='n_moves', color='alg', barmode='group',\n",
    "       title='Número de jogadas por tabuleiro',\n",
    "       labels={\n",
    "            'game_id': 'Identificador do tabuleiro',\n",
    "            'n_moves': 'Número de jogadas',\n",
    "            'alg': 'Algoritmo'\n",
    "       })\n",
    "\n",
    "pio.write_image(fig, 'plots/complex_n_moves.png', width=350, height=500)"
   ]
  },
  {
   "cell_type": "code",
   "execution_count": 68,
   "metadata": {},
   "outputs": [],
   "source": [
    "memory_used = [\n",
    "    9.99*10**6,\n",
    "    1.61*10**7,\n",
    "    2.86*10**7,\n",
    "    2.67*10**7,\n",
    "    2.83*10**7,\n",
    "    2.77*10**7,\n",
    "    2.68*10**7,\n",
    "    7.49*10**7\n",
    "]"
   ]
  },
  {
   "cell_type": "code",
   "execution_count": 69,
   "metadata": {},
   "outputs": [],
   "source": [
    "df_complex_alt['memory_used'] = memory_used"
   ]
  },
  {
   "cell_type": "code",
   "execution_count": 70,
   "metadata": {},
   "outputs": [
    {
     "data": {
      "text/html": [
       "<div>\n",
       "<style scoped>\n",
       "    .dataframe tbody tr th:only-of-type {\n",
       "        vertical-align: middle;\n",
       "    }\n",
       "\n",
       "    .dataframe tbody tr th {\n",
       "        vertical-align: top;\n",
       "    }\n",
       "\n",
       "    .dataframe thead th {\n",
       "        text-align: right;\n",
       "    }\n",
       "</style>\n",
       "<table border=\"1\" class=\"dataframe\">\n",
       "  <thead>\n",
       "    <tr style=\"text-align: right;\">\n",
       "      <th></th>\n",
       "      <th>game_id</th>\n",
       "      <th>alg</th>\n",
       "      <th>exec_time</th>\n",
       "      <th>n_moves</th>\n",
       "      <th>memory_used</th>\n",
       "    </tr>\n",
       "  </thead>\n",
       "  <tbody>\n",
       "    <tr>\n",
       "      <th>0</th>\n",
       "      <td>3</td>\n",
       "      <td>A Star</td>\n",
       "      <td>14.751803</td>\n",
       "      <td>29</td>\n",
       "      <td>9990000.0</td>\n",
       "    </tr>\n",
       "    <tr>\n",
       "      <th>1</th>\n",
       "      <td>3</td>\n",
       "      <td>Greedy Search</td>\n",
       "      <td>9.843436</td>\n",
       "      <td>176</td>\n",
       "      <td>16100000.0</td>\n",
       "    </tr>\n",
       "    <tr>\n",
       "      <th>2</th>\n",
       "      <td>8</td>\n",
       "      <td>A Star</td>\n",
       "      <td>3.995257</td>\n",
       "      <td>47</td>\n",
       "      <td>28600000.0</td>\n",
       "    </tr>\n",
       "    <tr>\n",
       "      <th>3</th>\n",
       "      <td>8</td>\n",
       "      <td>Greedy Search</td>\n",
       "      <td>12.426161</td>\n",
       "      <td>79</td>\n",
       "      <td>26700000.0</td>\n",
       "    </tr>\n",
       "    <tr>\n",
       "      <th>4</th>\n",
       "      <td>10</td>\n",
       "      <td>A Star</td>\n",
       "      <td>4.405516</td>\n",
       "      <td>49</td>\n",
       "      <td>28300000.0</td>\n",
       "    </tr>\n",
       "    <tr>\n",
       "      <th>5</th>\n",
       "      <td>10</td>\n",
       "      <td>Greedy Search</td>\n",
       "      <td>8.978745</td>\n",
       "      <td>115</td>\n",
       "      <td>27700000.0</td>\n",
       "    </tr>\n",
       "    <tr>\n",
       "      <th>6</th>\n",
       "      <td>11</td>\n",
       "      <td>A Star</td>\n",
       "      <td>15.273069</td>\n",
       "      <td>49</td>\n",
       "      <td>26800000.0</td>\n",
       "    </tr>\n",
       "    <tr>\n",
       "      <th>7</th>\n",
       "      <td>11</td>\n",
       "      <td>Greedy Search</td>\n",
       "      <td>245.562254</td>\n",
       "      <td>257</td>\n",
       "      <td>74900000.0</td>\n",
       "    </tr>\n",
       "  </tbody>\n",
       "</table>\n",
       "</div>"
      ],
      "text/plain": [
       "  game_id            alg   exec_time  n_moves  memory_used\n",
       "0       3         A Star   14.751803       29    9990000.0\n",
       "1       3  Greedy Search    9.843436      176   16100000.0\n",
       "2       8         A Star    3.995257       47   28600000.0\n",
       "3       8  Greedy Search   12.426161       79   26700000.0\n",
       "4      10         A Star    4.405516       49   28300000.0\n",
       "5      10  Greedy Search    8.978745      115   27700000.0\n",
       "6      11         A Star   15.273069       49   26800000.0\n",
       "7      11  Greedy Search  245.562254      257   74900000.0"
      ]
     },
     "execution_count": 70,
     "metadata": {},
     "output_type": "execute_result"
    }
   ],
   "source": [
    "df_complex_alt"
   ]
  },
  {
   "cell_type": "code",
   "execution_count": 72,
   "metadata": {},
   "outputs": [],
   "source": [
    "fig = px.bar(df_complex_alt, x='game_id', y='memory_used', color='alg', barmode='group',\n",
    "       title='Quantidade de memória utilizada por tabuleiro',\n",
    "       labels={\n",
    "            'game_id': 'Identificador do tabuleiro',\n",
    "            'memory_used': 'Quantidade de blocos de memória utilizada',\n",
    "            'alg': 'Algoritmo'\n",
    "       })\n",
    "\n",
    "pio.write_image(fig, 'plots/complex_memory_used.png', width=350, height=500)"
   ]
  }
 ],
 "metadata": {
  "kernelspec": {
   "display_name": "base",
   "language": "python",
   "name": "python3"
  },
  "language_info": {
   "codemirror_mode": {
    "name": "ipython",
    "version": 3
   },
   "file_extension": ".py",
   "mimetype": "text/x-python",
   "name": "python",
   "nbconvert_exporter": "python",
   "pygments_lexer": "ipython3",
   "version": "3.9.5"
  },
  "orig_nbformat": 4,
  "vscode": {
   "interpreter": {
    "hash": "521bd52f7db69f83952e45c69a41cc5a9312142da056b7c563e70a654200e62d"
   }
  }
 },
 "nbformat": 4,
 "nbformat_minor": 2
}
